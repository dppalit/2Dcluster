{
 "cells": [
  {
   "cell_type": "code",
   "execution_count": null,
   "id": "43ea5b0e-4914-45ba-b3a6-b7f96305ebd3",
   "metadata": {},
   "outputs": [],
   "source": [
    "import pandas as pd\n",
    "import numpy as np"
   ]
  },
  {
   "cell_type": "code",
   "execution_count": null,
   "id": "6120b220-266c-454b-9256-29883285aa24",
   "metadata": {},
   "outputs": [],
   "source": [
    "H=['C','M','F','I','L','V','W','Y']\n",
    "C=['N','Q','D','E','R','K','H']\n",
    "E=['A','G','T','P','S']"
   ]
  },
  {
   "cell_type": "code",
   "execution_count": null,
   "id": "f060df10-04fe-4736-bc3f-60b527a8d3af",
   "metadata": {},
   "outputs": [],
   "source": [
    "def cvrt(S):\n",
    "    for i in range(len(S)):\n",
    "        for j in range(len(H)):\n",
    "            if S[i] == H[j]:\n",
    "                S[i]='U'\n",
    "        for j in range(len(C)):\n",
    "            if S[i] == C[j]:\n",
    "                S[i]='X'\n",
    "        for j in range(len(E)):\n",
    "            if S[i] == E[j]:\n",
    "                S[i]='Z'\n",
    "                \n",
    "    for i in range(len(S)):\n",
    "        if S[i] == 'U':\n",
    "            S[i] = 'H'\n",
    "        elif S[i] == 'X':\n",
    "            S[i] = 'C'\n",
    "        elif S[i] == 'Z':\n",
    "            S[i] = 'E'\n",
    "    return S"
   ]
  },
  {
   "cell_type": "code",
   "execution_count": null,
   "id": "f7250bf2-ffaf-4ffb-922a-8fa9f906aed5",
   "metadata": {},
   "outputs": [],
   "source": [
    "data = pd.read_csv(\"Datasets/PDB_19_Primary (1).csv\")\n",
    "df=pd.DataFrame(data)\n",
    "Sequence = df['Sequence'].values.tolist()\n",
    "print (df)"
   ]
  },
  {
   "cell_type": "code",
   "execution_count": null,
   "id": "c1ba5ece-f06e-4367-8e3c-025de6d15db0",
   "metadata": {},
   "outputs": [],
   "source": [
    "''.join(cvrt(list(Sequence[5])))"
   ]
  },
  {
   "cell_type": "code",
   "execution_count": null,
   "id": "c744bab1-3098-4b22-bba4-a890454b9956",
   "metadata": {},
   "outputs": [],
   "source": [
    "Sequence[5]"
   ]
  },
  {
   "cell_type": "code",
   "execution_count": null,
   "id": "a5024ed6-1522-4077-bf31-9d536600b536",
   "metadata": {},
   "outputs": [],
   "source": [
    "for i in range(len(Sequence)):\n",
    "        Sequence[i]=''.join(cvrt(list(Sequence[i])))"
   ]
  },
  {
   "cell_type": "code",
   "execution_count": null,
   "id": "081c68f7-c5f2-4370-b076-e9624a9d630b",
   "metadata": {},
   "outputs": [],
   "source": [
    "def vect(Sequence):\n",
    "    H = [1,1]\n",
    "    C = [1,-1]\n",
    "    E = [-1,1]\n",
    "    xi =[]\n",
    "    yi = []\n",
    "    mi = []\n",
    "    mixi =[]\n",
    "    miyi = []\n",
    "    \n",
    "    n=len(Sequence)\n",
    "    i=0\n",
    "    for ch in Sequence:\n",
    "    #Calculation of xi,yi\n",
    "      if ch=='H':\n",
    "        if(i==0):\n",
    "          xi.insert(i, H[0])\n",
    "          yi.insert(i, H[1])\n",
    "        else:\n",
    "          xi.insert(i, H[0]+xi[i-1])\n",
    "          yi.insert(i, H[1]+yi[i-1])\n",
    "            \n",
    "      elif ch=='C':\n",
    "        if(i==0):\n",
    "          xi.insert(i, C[0])\n",
    "          yi.insert(i, C[1])\n",
    "        else:\n",
    "          xi.insert(i, C[0]+xi[i-1])\n",
    "          yi.insert(i, C[1]+yi[i-1])\n",
    "            \n",
    "      elif (ch=='E'):\n",
    "        if(i==0):\n",
    "          xi.insert(i, E[0])\n",
    "          yi.insert(i, E[1])\n",
    "        else:\n",
    "          xi.insert(i, E[0]+xi[i-1])\n",
    "          yi.insert(i, E[1]+yi[i-1])\n",
    "            \n",
    "      #calculation of mi\n",
    "      mi.insert(i, 1)\n",
    "      if i>0:\n",
    "          for j in range(i-1, -1, -1):\n",
    "              if xi[i]==xi[j] and yi[i]==yi[j]:\n",
    "                  mi[i] = mi[j]+1\n",
    "                  break\n",
    "              \n",
    "      #calculation of mixi\n",
    "      mixi.insert(i, mi[i]*xi[i])\n",
    "        \n",
    "      #calculation of miyi\n",
    "      miyi.insert(i, mi[i]*yi[i])\n",
    "      i=i+1\n",
    "        \n",
    "    #calculation of ux, uy, uz\n",
    "    ux = sum(mixi)/n\n",
    "    uy = sum(miyi)/n\n",
    "\n",
    "    # ixx=iyy=izz=ixy=ixz=iyz=0\n",
    "    ixx=iyy=ixy=0\n",
    "\n",
    "    for i in range(n):\n",
    "      ixx=ixx+mi[i]*(xi[i]**2)\n",
    "      # ixx=ixx+mi[i]*(yi[i]**2+zi[i]**2)\n",
    "    \n",
    "    for i in range(n):\n",
    "      iyy=iyy+mi[i]*(yi[i]**2)\n",
    "      # iyy=iyy+mi[i]*(xi[i]**2+zi[i]**2)\n",
    "    \n",
    "    # for i in range(n):\n",
    "    #   izz=izz+mi[i]*(zi[i]**2)\n",
    "    #   # izz=izz+mi[i]*(yi[i]**2+xi[i]**2)\n",
    "    \n",
    "    for i in range(n):\n",
    "      ixy=ixy+mi[i]*xi[i]*yi[i]\n",
    "    ixy = ixy * (-1)\n",
    "    \n",
    "    # for i in range(n):\n",
    "    #   ixz=ixz+mi[i]*xi[i]*zi[i]\n",
    "    # ixz = ixz * (-1)\n",
    "    \n",
    "    # for i in range(n):\n",
    "    #   iyz=iyz+mi[i]*yi[i]*zi[i]\n",
    "    # iyz = iyz * (-1)\n",
    "\n",
    "    matrix = np.array([[ixx, ixy],\n",
    "                       [ixy, iyy]])\n",
    "    # Calculate eigenvalues\n",
    "    I1, I2 = np.linalg.eigvals(matrix)\n",
    "\n",
    "    #final vector calculation\n",
    "    v = [ux/I1, uy/I1, ux/I2, uy/I2]\n",
    "    return v"
   ]
  },
  {
   "cell_type": "code",
   "execution_count": null,
   "id": "f198b8d6-a1fe-45ed-b722-2f971a133d3f",
   "metadata": {},
   "outputs": [],
   "source": [
    "vec = []\n",
    "dmat_mh = []\n",
    "dmat_ed = []"
   ]
  },
  {
   "cell_type": "code",
   "execution_count": null,
   "id": "0951edb9-310f-432d-bfc3-8c07b19fb192",
   "metadata": {
    "scrolled": true
   },
   "outputs": [],
   "source": [
    "for k in range(len(Sequence)):\n",
    "   vec.insert(k,vect(Sequence[k]))\n",
    "\n",
    "vector=pd.DataFrame(vec)\n",
    "vector"
   ]
  },
  {
   "cell_type": "code",
   "execution_count": null,
   "id": "bbed25fe-7cbc-4acd-882c-cf5409549f87",
   "metadata": {},
   "outputs": [],
   "source": [
    "def maximum(a, b):    \n",
    "    if a >= b:\n",
    "        return a\n",
    "    else:\n",
    "        return b"
   ]
  },
  {
   "cell_type": "code",
   "execution_count": null,
   "id": "2a2f50ff-e798-4969-94c4-79881136552d",
   "metadata": {},
   "outputs": [],
   "source": [
    "n = vector.shape[0]\n",
    "mat=[]\n",
    "for i in range(n):\n",
    "    for j in range(i+1, n):\n",
    "        print(np.abs(vector.iloc[i] - vector.iloc[j]))\n",
    "        "
   ]
  },
  {
   "cell_type": "code",
   "execution_count": null,
   "id": "b9ace306-9755-47a4-a07b-0a3b71aca0ad",
   "metadata": {},
   "outputs": [],
   "source": [
    "matrix=pd.DataFrame(mat)\n",
    "mat"
   ]
  },
  {
   "cell_type": "code",
   "execution_count": null,
   "id": "ec3470c8-e647-4656-9905-28731dded9d2",
   "metadata": {},
   "outputs": [],
   "source": [
    "## Custom function to return Manhattan and Euclidean distance between two vector\n",
    "\n",
    "# Calculate pairwise Manhattan distance between rows\n",
    "def pairwise_manhattan_distance(df):\n",
    "    n = df.shape[0]\n",
    "    mat=[]\n",
    "    distance_matrix = np.zeros((n, n))\n",
    "    for i in range(n):\n",
    "        for j in range(i+1, n):\n",
    "            mat[i,j]=np.abs(df.iloc[i] - df.iloc[j])\n",
    "    for i in range(n):\n",
    "        for j in range(i+1, n):\n",
    "            # distance_matrix[i, j] = np.sum(np.abs(df.iloc[i] - df.iloc[j]))\n",
    "            distance_matrix[i, j] = maximum(mat.iloc[i], mat.iloc[j])\n",
    "            distance_matrix[j, i] = distance_matrix[i, j]  # Distance matrix is symmetric\n",
    "    return distance_matrix\n",
    "\n",
    "# Calculate pairwise Euclidean distance between rows\n",
    "def pairwise_euclidean_distance(df):\n",
    "    n = df.shape[0]\n",
    "    distance_matrix = np.zeros((n, n))\n",
    "    for i in range(n):\n",
    "        for j in range(i+1, n):\n",
    "            distance_matrix[i, j] = np.sqrt(np.sum((df.iloc[i]-df.iloc[j])**2))\n",
    "            distance_matrix[j, i] = distance_matrix[i, j]  # Distance matrix is symmetric\n",
    "    return distance_matrix"
   ]
  },
  {
   "cell_type": "code",
   "execution_count": null,
   "id": "e725a3c8-5b93-4fd6-afd3-a5c72ecfba99",
   "metadata": {},
   "outputs": [],
   "source": [
    "dmat_mh = pd.DataFrame(pairwise_manhattan_distance(vector))\n",
    "dmat_ed = pd.DataFrame(pairwise_euclidean_distance(vector))"
   ]
  },
  {
   "cell_type": "code",
   "execution_count": null,
   "id": "08f9460d-8fd5-4fdf-b2fd-3777b4fc596e",
   "metadata": {},
   "outputs": [],
   "source": [
    "dmat_mh['Pdbid']=df['Pdbid']\n",
    "dmat_mh.set_index('Pdbid', inplace = True)\n",
    "dmat_mh"
   ]
  },
  {
   "cell_type": "code",
   "execution_count": null,
   "id": "99daed32-1631-4730-be08-9b04134a1b26",
   "metadata": {},
   "outputs": [],
   "source": [
    "# dmat_mh.to_csv('Results/PDB_19_Primary.csv')"
   ]
  },
  {
   "cell_type": "code",
   "execution_count": null,
   "id": "e5fd6a27-a3bc-4d20-b4ab-e99fd74711ef",
   "metadata": {},
   "outputs": [],
   "source": [
    "dmat_ed['Pdbid']=df['Pdbid']\n",
    "dmat_ed.set_index('Pdbid', inplace = True)\n",
    "dmat_ed"
   ]
  },
  {
   "cell_type": "code",
   "execution_count": null,
   "id": "beb8442f-aff7-497a-8547-ffc19f8b44b9",
   "metadata": {},
   "outputs": [],
   "source": [
    "dmat=pd.concat([dmat_mh,dmat_ed])\n",
    "dmat.to_csv('Results/PDB_19_Primary.csv')"
   ]
  }
 ],
 "metadata": {
  "kernelspec": {
   "display_name": "Python 3 (ipykernel)",
   "language": "python",
   "name": "python3"
  },
  "language_info": {
   "codemirror_mode": {
    "name": "ipython",
    "version": 3
   },
   "file_extension": ".py",
   "mimetype": "text/x-python",
   "name": "python",
   "nbconvert_exporter": "python",
   "pygments_lexer": "ipython3",
   "version": "3.11.5"
  }
 },
 "nbformat": 4,
 "nbformat_minor": 5
}
